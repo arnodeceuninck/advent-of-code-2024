{
 "cells": [
  {
   "cell_type": "markdown",
   "metadata": {},
   "source": [
    "# Classes"
   ]
  },
  {
   "cell_type": "code",
   "execution_count": 22,
   "metadata": {},
   "outputs": [],
   "source": [
    "from enum import Enum\n",
    "\n",
    "class Direction(Enum):\n",
    "    ASCENDING = 1\n",
    "    DESCENDING = 2\n",
    "\n",
    "class Report:\n",
    "    def __init__(self, numbers):\n",
    "        self.set_new_numbers(numbers)\n",
    "        self.min_distance = 1\n",
    "        self.max_distance = 3\n",
    "\n",
    "    def set_new_numbers(self, numbers):\n",
    "        self.numbers = numbers\n",
    "        self.direction = Report.get_direction(numbers[0], numbers[-1])\n",
    "\n",
    "    @staticmethod\n",
    "    def get_direction(number1, number2):\n",
    "        return Direction.ASCENDING if number2 > number1 else Direction.DESCENDING\n",
    "    \n",
    "    def validate(self):\n",
    "        check = self.validate_numbers()\n",
    "\n",
    "        if check:\n",
    "            return True\n",
    "        \n",
    "        # Activate problem dampener. Not efficient, but easier to develop -> Try all\n",
    "        self.original_numbers = self.numbers.copy()\n",
    "\n",
    "        for i in range(len(self.original_numbers)):\n",
    "            # check whether it works with remove the number at index i\n",
    "            self.numbers = self.original_numbers.copy()\n",
    "            self.numbers.pop(i)\n",
    "\n",
    "            check = self.validate_numbers()\n",
    "\n",
    "            if check:\n",
    "                return True\n",
    "            \n",
    "        return False\n",
    "\n",
    "\n",
    "\n",
    "\n",
    "    def validate_numbers(self):\n",
    "        previous_number = None\n",
    "        success = True\n",
    "\n",
    "        for number in self.numbers:\n",
    "            if previous_number is None:\n",
    "                pass # OK\n",
    "            else:\n",
    "                check = self.validate_pair(previous_number, number)\n",
    "\n",
    "                success = success and check\n",
    "\n",
    "                if success is False:\n",
    "                    break\n",
    "            \n",
    "            previous_number = number\n",
    "\n",
    "        return success\n",
    "\n",
    "    def validate_pair(self, previous_number, number):\n",
    "        direction = Report.get_direction(previous_number, number)\n",
    "        diff = abs(previous_number-number)\n",
    "\n",
    "        if direction != self.direction:\n",
    "            return False\n",
    "        elif diff < self.min_distance or diff > self.max_distance:\n",
    "            return False\n",
    "        \n",
    "        return True\n",
    "            "
   ]
  },
  {
   "cell_type": "markdown",
   "metadata": {},
   "source": [
    "# Read input"
   ]
  },
  {
   "cell_type": "code",
   "execution_count": 23,
   "metadata": {},
   "outputs": [],
   "source": [
    "f = open(\"input.txt\", \"r\")\n",
    "lines = f.readlines()\n",
    "\n",
    "reports = []\n",
    "\n",
    "for line in lines:\n",
    "    numbers = [int(x) for x in line.split()]\n",
    "    report = Report(numbers)\n",
    "    reports.append(report)"
   ]
  },
  {
   "cell_type": "code",
   "execution_count": 24,
   "metadata": {},
   "outputs": [],
   "source": [
    "checks = [report.validate() for report in reports]"
   ]
  },
  {
   "cell_type": "code",
   "execution_count": 25,
   "metadata": {},
   "outputs": [
    {
     "name": "stdout",
     "output_type": "stream",
     "text": [
      "386 correct reports of total 1000\n"
     ]
    }
   ],
   "source": [
    "correct_reports = sum(checks)\n",
    "total = len(checks)\n",
    "print(f\"{correct_reports} correct reports of total {total}\")"
   ]
  }
 ],
 "metadata": {
  "kernelspec": {
   "display_name": "Python 3",
   "language": "python",
   "name": "python3"
  },
  "language_info": {
   "codemirror_mode": {
    "name": "ipython",
    "version": 3
   },
   "file_extension": ".py",
   "mimetype": "text/x-python",
   "name": "python",
   "nbconvert_exporter": "python",
   "pygments_lexer": "ipython3",
   "version": "3.13.1"
  }
 },
 "nbformat": 4,
 "nbformat_minor": 2
}
