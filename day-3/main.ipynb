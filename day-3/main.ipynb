{
 "cells": [
  {
   "cell_type": "code",
   "execution_count": 15,
   "metadata": {},
   "outputs": [],
   "source": [
    "import re\n"
   ]
  },
  {
   "cell_type": "code",
   "execution_count": 16,
   "metadata": {},
   "outputs": [],
   "source": [
    "with open(\"input.txt\") as f:\n",
    "    content = f.read()\n",
    "    content = \"do()\" + content"
   ]
  },
  {
   "cell_type": "markdown",
   "metadata": {},
   "source": [
    "## Part 1"
   ]
  },
  {
   "cell_type": "code",
   "execution_count": null,
   "metadata": {},
   "outputs": [],
   "source": [
    "\n",
    "regex = r\"mul\\(([0-9]+),([0-9]+)\\)\""
   ]
  },
  {
   "cell_type": "code",
   "execution_count": 10,
   "metadata": {},
   "outputs": [
    {
     "data": {
      "text/plain": [
       "[('437', '864'),\n",
       " ('880', '907'),\n",
       " ('215', '270'),\n",
       " ('737', '510'),\n",
       " ('634', '344')]"
      ]
     },
     "execution_count": 10,
     "metadata": {},
     "output_type": "execute_result"
    }
   ],
   "source": [
    "numbers = re.findall(regex, content)\n",
    "numbers[:5]"
   ]
  },
  {
   "cell_type": "code",
   "execution_count": 13,
   "metadata": {},
   "outputs": [
    {
     "data": {
      "text/plain": [
       "[377568, 798160, 58050, 375870, 218096]"
      ]
     },
     "execution_count": 13,
     "metadata": {},
     "output_type": "execute_result"
    }
   ],
   "source": [
    "multiplied = [int(num[0]) * int(num[1]) for num in numbers]\n",
    "multiplied[:5]"
   ]
  },
  {
   "cell_type": "code",
   "execution_count": 14,
   "metadata": {},
   "outputs": [
    {
     "data": {
      "text/plain": [
       "188192787"
      ]
     },
     "execution_count": 14,
     "metadata": {},
     "output_type": "execute_result"
    }
   ],
   "source": [
    "sum(multiplied)"
   ]
  },
  {
   "cell_type": "markdown",
   "metadata": {},
   "source": [
    "## Part 2"
   ]
  },
  {
   "cell_type": "code",
   "execution_count": 41,
   "metadata": {},
   "outputs": [],
   "source": [
    "# regex_2 = r\"do\\(\\)(?:(?!don't\\(\\)).*)mul\\(([0-9]+),([0-9]+)\\)\"\n",
    "regex_2 = r\"(mul\\(([0-9]+),([0-9]+)\\)|do\\(\\)|don't\\(\\))\""
   ]
  },
  {
   "cell_type": "code",
   "execution_count": 42,
   "metadata": {},
   "outputs": [
    {
     "data": {
      "text/plain": [
       "[('do()', '', ''),\n",
       " ('mul(437,864)', '437', '864'),\n",
       " ('mul(880,907)', '880', '907'),\n",
       " ('mul(215,270)', '215', '270'),\n",
       " ('mul(737,510)', '737', '510')]"
      ]
     },
     "execution_count": 42,
     "metadata": {},
     "output_type": "execute_result"
    }
   ],
   "source": [
    "numbers = re.findall(regex_2, content)\n",
    "numbers[:5]"
   ]
  },
  {
   "cell_type": "code",
   "execution_count": 45,
   "metadata": {},
   "outputs": [
    {
     "name": "stdout",
     "output_type": "stream",
     "text": [
      "113965544\n"
     ]
    }
   ],
   "source": [
    "do = True\n",
    "sum = 0\n",
    "for number in numbers:\n",
    "    if number[0] == \"do()\":\n",
    "        do = True\n",
    "    elif number[0] == \"don't()\":\n",
    "        do = False\n",
    "    elif do:\n",
    "        # print(number)\n",
    "        sum += int(number[1]) * int(number[2])\n",
    "print(sum)"
   ]
  },
  {
   "cell_type": "code",
   "execution_count": 39,
   "metadata": {},
   "outputs": [
    {
     "data": {
      "text/plain": [
       "1574887"
      ]
     },
     "execution_count": 39,
     "metadata": {},
     "output_type": "execute_result"
    }
   ],
   "source": [
    "\n",
    "multiplied = [int(num[0]) * int(num[1]) for num in numbers]\n",
    "sum(multiplied)"
   ]
  }
 ],
 "metadata": {
  "kernelspec": {
   "display_name": "Python 3",
   "language": "python",
   "name": "python3"
  },
  "language_info": {
   "codemirror_mode": {
    "name": "ipython",
    "version": 3
   },
   "file_extension": ".py",
   "mimetype": "text/x-python",
   "name": "python",
   "nbconvert_exporter": "python",
   "pygments_lexer": "ipython3",
   "version": "3.13.1"
  }
 },
 "nbformat": 4,
 "nbformat_minor": 2
}
