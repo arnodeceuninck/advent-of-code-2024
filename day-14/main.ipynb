{
 "cells": [
  {
   "cell_type": "code",
   "execution_count": 78,
   "metadata": {},
   "outputs": [],
   "source": [
    "import re\n",
    "\n",
    "input = \"input.txt\"\n",
    "\n",
    "with open(input) as f:\n",
    "    content = f.readlines()\n",
    "    match = r\"p=([0-9]+),([0-9]+) v=(-?[0-9]+),(-?[0-9]+)\"\n",
    "    # variables = re.findall(match, content)\n",
    "    content = [re.findall(match, line) for line in content]\n",
    "    robot_config = [data[0] for data in content]"
   ]
  },
  {
   "cell_type": "code",
   "execution_count": 79,
   "metadata": {},
   "outputs": [],
   "source": [
    "WIDTH = 101\n",
    "HEIGHT = 103\n",
    "\n",
    "is_sample = \"sample\" in input\n",
    "WIDTH = 11 if is_sample else WIDTH \n",
    "HEIGHT = 7 if is_sample else HEIGHT\n",
    "\n",
    "WIDTH_MIDDLE = int(WIDTH/2)\n",
    "HEIGHT_MIDDLE = int(HEIGHT/2)"
   ]
  },
  {
   "cell_type": "code",
   "execution_count": 80,
   "metadata": {},
   "outputs": [],
   "source": [
    "class Robot:\n",
    "    def __init__(self, x, y, vx, vy):\n",
    "        self.x = x\n",
    "        self.y = y\n",
    "        self.vx = vx\n",
    "        self.vy = vy\n",
    "\n",
    "    def advance(self, t):\n",
    "        self.x = (self.x + t*self.vx) % WIDTH\n",
    "        self.y = (self.y + t*self.vy) % HEIGHT\n",
    "\n",
    "    def get_quadrant(self):\n",
    "        if self.x < WIDTH_MIDDLE and self.y < HEIGHT_MIDDLE:\n",
    "            return 1\n",
    "        elif self.x < WIDTH_MIDDLE and self.y > HEIGHT_MIDDLE:\n",
    "            return 2\n",
    "        elif self.x > WIDTH_MIDDLE and self.y < HEIGHT_MIDDLE:\n",
    "            return 3\n",
    "        elif self.x > WIDTH_MIDDLE and self.y > HEIGHT_MIDDLE:\n",
    "            return 4\n",
    "        else:\n",
    "            return 0\n",
    "        \n"
   ]
  },
  {
   "cell_type": "code",
   "execution_count": 81,
   "metadata": {},
   "outputs": [],
   "source": [
    "from collections import defaultdict\n",
    "\n",
    "robots = []\n",
    "for bot in robot_config:\n",
    "    bot = [int(a) for a in bot]\n",
    "    x, y, vx, vy = bot\n",
    "    robot = Robot(x, y, vx, vy)\n",
    "    robots.append(robot)"
   ]
  },
  {
   "cell_type": "code",
   "execution_count": 82,
   "metadata": {},
   "outputs": [
    {
     "ename": "KeyboardInterrupt",
     "evalue": "",
     "output_type": "error",
     "traceback": [
      "\u001b[1;31m---------------------------------------------------------------------------\u001b[0m",
      "\u001b[1;31mKeyboardInterrupt\u001b[0m                         Traceback (most recent call last)",
      "Cell \u001b[1;32mIn[82], line 21\u001b[0m\n\u001b[0;32m     19\u001b[0m \u001b[38;5;28;01mfor\u001b[39;00m i \u001b[38;5;129;01min\u001b[39;00m \u001b[38;5;28mrange\u001b[39m(\u001b[38;5;241m100000\u001b[39m): \n\u001b[0;32m     20\u001b[0m     \u001b[38;5;28;01mfor\u001b[39;00m robot \u001b[38;5;129;01min\u001b[39;00m robots:\n\u001b[1;32m---> 21\u001b[0m         \u001b[43mrobot\u001b[49m\u001b[38;5;241;43m.\u001b[39;49m\u001b[43madvance\u001b[49m\u001b[43m(\u001b[49m\u001b[38;5;241;43m1\u001b[39;49m\u001b[43m)\u001b[49m\n\u001b[0;32m     22\u001b[0m     print_robots(robots)\n",
      "Cell \u001b[1;32mIn[80], line 8\u001b[0m, in \u001b[0;36mRobot.advance\u001b[1;34m(self, t)\u001b[0m\n\u001b[0;32m      5\u001b[0m     \u001b[38;5;28mself\u001b[39m\u001b[38;5;241m.\u001b[39mvx \u001b[38;5;241m=\u001b[39m vx\n\u001b[0;32m      6\u001b[0m     \u001b[38;5;28mself\u001b[39m\u001b[38;5;241m.\u001b[39mvy \u001b[38;5;241m=\u001b[39m vy\n\u001b[1;32m----> 8\u001b[0m \u001b[38;5;28;01mdef\u001b[39;00m \u001b[38;5;21madvance\u001b[39m(\u001b[38;5;28mself\u001b[39m, t):\n\u001b[0;32m      9\u001b[0m     \u001b[38;5;28mself\u001b[39m\u001b[38;5;241m.\u001b[39mx \u001b[38;5;241m=\u001b[39m (\u001b[38;5;28mself\u001b[39m\u001b[38;5;241m.\u001b[39mx \u001b[38;5;241m+\u001b[39m t\u001b[38;5;241m*\u001b[39m\u001b[38;5;28mself\u001b[39m\u001b[38;5;241m.\u001b[39mvx) \u001b[38;5;241m%\u001b[39m WIDTH\n\u001b[0;32m     10\u001b[0m     \u001b[38;5;28mself\u001b[39m\u001b[38;5;241m.\u001b[39my \u001b[38;5;241m=\u001b[39m (\u001b[38;5;28mself\u001b[39m\u001b[38;5;241m.\u001b[39my \u001b[38;5;241m+\u001b[39m t\u001b[38;5;241m*\u001b[39m\u001b[38;5;28mself\u001b[39m\u001b[38;5;241m.\u001b[39mvy) \u001b[38;5;241m%\u001b[39m HEIGHT\n",
      "\u001b[1;31mKeyboardInterrupt\u001b[0m: "
     ]
    }
   ],
   "source": [
    "# empty_part = \".\" * (WIDTH_MIDDLE-1)\n",
    "# FIRST_ROW = f\"{empty_part}@{empty_part}\"\n",
    "\n",
    "# def print_robots(robots):\n",
    "#     map = [[\".\"] * WIDTH for row in range(HEIGHT)]\n",
    "\n",
    "#     for robot in robots:\n",
    "#         map[robot.y][robot.x] = '@'\n",
    "\n",
    "#     # if map[0] != FIRST_ROW:\n",
    "#     #     return\n",
    "\n",
    "#     for row in map:\n",
    "#       print(\"\".join(row))\n",
    "#     #   print(\"\\n\")\n",
    "\n",
    "#     print()\n",
    "\n",
    "# # for i in range(100000): \n",
    "# #     for robot in robots:\n",
    "# #         robot.advance(1)\n",
    "# #     print_robots(robots)"
   ]
  },
  {
   "cell_type": "code",
   "execution_count": null,
   "metadata": {},
   "outputs": [],
   "source": [
    "\n",
    "robots_per_quadrant = defaultdict(int)\n",
    "for robot in robots:\n",
    "    robot.advance(100)\n",
    "    quadrant = robot.get_quadrant()\n",
    "    robots_per_quadrant[quadrant] += 1\n",
    "\n",
    "print(robots_per_quadrant)"
   ]
  },
  {
   "cell_type": "code",
   "execution_count": 62,
   "metadata": {},
   "outputs": [
    {
     "name": "stdout",
     "output_type": "stream",
     "text": [
      "12\n"
     ]
    }
   ],
   "source": [
    "total = 1\n",
    "for quadrant in [1, 2, 3, 4]:\n",
    "    total *= robots_per_quadrant[quadrant]\n",
    "\n",
    "print(total)"
   ]
  }
 ],
 "metadata": {
  "kernelspec": {
   "display_name": "Python 3",
   "language": "python",
   "name": "python3"
  },
  "language_info": {
   "codemirror_mode": {
    "name": "ipython",
    "version": 3
   },
   "file_extension": ".py",
   "mimetype": "text/x-python",
   "name": "python",
   "nbconvert_exporter": "python",
   "pygments_lexer": "ipython3",
   "version": "3.11.9"
  }
 },
 "nbformat": 4,
 "nbformat_minor": 2
}
